{
 "cells": [
  {
   "cell_type": "markdown",
   "id": "68f830a5",
   "metadata": {},
   "source": [
    "# data impoting"
   ]
  },
  {
   "cell_type": "code",
   "execution_count": 2,
   "id": "c62a4376",
   "metadata": {},
   "outputs": [],
   "source": [
    "import pandas as pd\n",
    "import numpy as np\n",
    "import matplotlib.pyplot as plt\n",
    "import seaborn as sns \n",
    "%matplotlib inline\n",
    "plt.style.use('default')"
   ]
  },
  {
   "cell_type": "code",
   "execution_count": 4,
   "id": "8f9c150a",
   "metadata": {},
   "outputs": [],
   "source": [
    "project=pd.read_csv('listings.csv')"
   ]
  },
  {
   "cell_type": "markdown",
   "id": "423da816",
   "metadata": {},
   "source": [
    "# data cleaning"
   ]
  },
  {
   "cell_type": "code",
   "execution_count": 6,
   "id": "f301dce7",
   "metadata": {},
   "outputs": [
    {
     "data": {
      "text/plain": [
       "Unnamed: 0                           0\n",
       "id                                   0\n",
       "name                                 0\n",
       "host_id                              0\n",
       "host_name                            0\n",
       "neighbourhood                        0\n",
       "latitude                             0\n",
       "longitude                            0\n",
       "room_type                            0\n",
       "price                                0\n",
       "minimum_nights                       0\n",
       "number_of_reviews                    0\n",
       "last_review                        710\n",
       "reviews_per_month                  710\n",
       "calculated_host_listings_count       0\n",
       "availability_365                     0\n",
       "number_of_reviews_ltm                0\n",
       "license                           1134\n",
       "dtype: int64"
      ]
     },
     "execution_count": 6,
     "metadata": {},
     "output_type": "execute_result"
    }
   ],
   "source": [
    "project.isna().sum()"
   ]
  },
  {
   "cell_type": "code",
   "execution_count": 8,
   "id": "19339991",
   "metadata": {},
   "outputs": [],
   "source": [
    "project=project.dropna()"
   ]
  },
  {
   "cell_type": "code",
   "execution_count": 9,
   "id": "1ed9b899",
   "metadata": {},
   "outputs": [
    {
     "data": {
      "text/html": [
       "<div>\n",
       "<style scoped>\n",
       "    .dataframe tbody tr th:only-of-type {\n",
       "        vertical-align: middle;\n",
       "    }\n",
       "\n",
       "    .dataframe tbody tr th {\n",
       "        vertical-align: top;\n",
       "    }\n",
       "\n",
       "    .dataframe thead th {\n",
       "        text-align: right;\n",
       "    }\n",
       "</style>\n",
       "<table border=\"1\" class=\"dataframe\">\n",
       "  <thead>\n",
       "    <tr style=\"text-align: right;\">\n",
       "      <th></th>\n",
       "      <th>Unnamed: 0</th>\n",
       "      <th>id</th>\n",
       "      <th>name</th>\n",
       "      <th>host_id</th>\n",
       "      <th>host_name</th>\n",
       "      <th>neighbourhood</th>\n",
       "      <th>latitude</th>\n",
       "      <th>longitude</th>\n",
       "      <th>room_type</th>\n",
       "      <th>price</th>\n",
       "      <th>minimum_nights</th>\n",
       "      <th>number_of_reviews</th>\n",
       "      <th>last_review</th>\n",
       "      <th>reviews_per_month</th>\n",
       "      <th>calculated_host_listings_count</th>\n",
       "      <th>availability_365</th>\n",
       "      <th>number_of_reviews_ltm</th>\n",
       "      <th>license</th>\n",
       "    </tr>\n",
       "  </thead>\n",
       "  <tbody>\n",
       "    <tr>\n",
       "      <th>2</th>\n",
       "      <td>2</td>\n",
       "      <td>213371</td>\n",
       "      <td>Rental unit in Amsterdam · ★4.86 · 3 bedrooms ...</td>\n",
       "      <td>1100324</td>\n",
       "      <td>Hendrik</td>\n",
       "      <td>De Pijp - Rivierenbuurt</td>\n",
       "      <td>52.351500</td>\n",
       "      <td>4.896560</td>\n",
       "      <td>Entire home/apt</td>\n",
       "      <td>270</td>\n",
       "      <td>4</td>\n",
       "      <td>23</td>\n",
       "      <td>2023-01-08</td>\n",
       "      <td>0.16</td>\n",
       "      <td>1</td>\n",
       "      <td>2</td>\n",
       "      <td>1</td>\n",
       "      <td>0363 F88F 4B47 6E9B 225B</td>\n",
       "    </tr>\n",
       "    <tr>\n",
       "      <th>3</th>\n",
       "      <td>3</td>\n",
       "      <td>155548</td>\n",
       "      <td>Rental unit in Amsterdam · ★4.76 · 1 bedroom ·...</td>\n",
       "      <td>748161</td>\n",
       "      <td>Maria</td>\n",
       "      <td>Oud-Oost</td>\n",
       "      <td>52.364200</td>\n",
       "      <td>4.928290</td>\n",
       "      <td>Entire home/apt</td>\n",
       "      <td>200</td>\n",
       "      <td>3</td>\n",
       "      <td>21</td>\n",
       "      <td>2019-08-20</td>\n",
       "      <td>0.15</td>\n",
       "      <td>1</td>\n",
       "      <td>0</td>\n",
       "      <td>0</td>\n",
       "      <td>0363 A562 4D7E 4A91 60DF</td>\n",
       "    </tr>\n",
       "    <tr>\n",
       "      <th>5</th>\n",
       "      <td>5</td>\n",
       "      <td>162467</td>\n",
       "      <td>Rental unit in Amsterdam · ★4.77 · 1 bedroom ·...</td>\n",
       "      <td>776296</td>\n",
       "      <td>Nicole</td>\n",
       "      <td>De Baarsjes - Oud-West</td>\n",
       "      <td>52.362700</td>\n",
       "      <td>4.856930</td>\n",
       "      <td>Entire home/apt</td>\n",
       "      <td>170</td>\n",
       "      <td>3</td>\n",
       "      <td>67</td>\n",
       "      <td>2023-05-26</td>\n",
       "      <td>0.53</td>\n",
       "      <td>1</td>\n",
       "      <td>157</td>\n",
       "      <td>5</td>\n",
       "      <td>0363 C6C3 A2DC 89AC B72B</td>\n",
       "    </tr>\n",
       "    <tr>\n",
       "      <th>6</th>\n",
       "      <td>6</td>\n",
       "      <td>214531</td>\n",
       "      <td>Rental unit in Amsterdam · ★4.82 · 1 bedroom ·...</td>\n",
       "      <td>1107389</td>\n",
       "      <td>Henry</td>\n",
       "      <td>Centrum-West</td>\n",
       "      <td>52.371690</td>\n",
       "      <td>4.894460</td>\n",
       "      <td>Private room</td>\n",
       "      <td>115</td>\n",
       "      <td>3</td>\n",
       "      <td>175</td>\n",
       "      <td>2022-06-26</td>\n",
       "      <td>1.24</td>\n",
       "      <td>1</td>\n",
       "      <td>0</td>\n",
       "      <td>2</td>\n",
       "      <td>0363 1939 7BED DDCD 0353</td>\n",
       "    </tr>\n",
       "    <tr>\n",
       "      <th>8</th>\n",
       "      <td>8</td>\n",
       "      <td>219276</td>\n",
       "      <td>Guest suite in Amsterdam · ★4.88 · 1 bedroom ·...</td>\n",
       "      <td>1135329</td>\n",
       "      <td>Amsterdam Boutique Apartments</td>\n",
       "      <td>Centrum-West</td>\n",
       "      <td>52.368830</td>\n",
       "      <td>4.887490</td>\n",
       "      <td>Private room</td>\n",
       "      <td>300</td>\n",
       "      <td>2</td>\n",
       "      <td>17</td>\n",
       "      <td>2022-10-23</td>\n",
       "      <td>0.13</td>\n",
       "      <td>1</td>\n",
       "      <td>126</td>\n",
       "      <td>4</td>\n",
       "      <td>0363 1179 146A FBDB 79FC</td>\n",
       "    </tr>\n",
       "    <tr>\n",
       "      <th>...</th>\n",
       "      <td>...</td>\n",
       "      <td>...</td>\n",
       "      <td>...</td>\n",
       "      <td>...</td>\n",
       "      <td>...</td>\n",
       "      <td>...</td>\n",
       "      <td>...</td>\n",
       "      <td>...</td>\n",
       "      <td>...</td>\n",
       "      <td>...</td>\n",
       "      <td>...</td>\n",
       "      <td>...</td>\n",
       "      <td>...</td>\n",
       "      <td>...</td>\n",
       "      <td>...</td>\n",
       "      <td>...</td>\n",
       "      <td>...</td>\n",
       "      <td>...</td>\n",
       "    </tr>\n",
       "    <tr>\n",
       "      <th>7507</th>\n",
       "      <td>7507</td>\n",
       "      <td>886658529197518651</td>\n",
       "      <td>Rental unit in Amsterdam · ★New · 2 bedrooms ·...</td>\n",
       "      <td>138171259</td>\n",
       "      <td>Reinier</td>\n",
       "      <td>De Pijp - Rivierenbuurt</td>\n",
       "      <td>52.346446</td>\n",
       "      <td>4.898110</td>\n",
       "      <td>Entire home/apt</td>\n",
       "      <td>500</td>\n",
       "      <td>3</td>\n",
       "      <td>2</td>\n",
       "      <td>2023-05-27</td>\n",
       "      <td>2.00</td>\n",
       "      <td>1</td>\n",
       "      <td>326</td>\n",
       "      <td>2</td>\n",
       "      <td>0363 795A E425 9AA3 C4DE</td>\n",
       "    </tr>\n",
       "    <tr>\n",
       "      <th>7539</th>\n",
       "      <td>7539</td>\n",
       "      <td>894726527429673315</td>\n",
       "      <td>Rental unit in Amsterdam · ★New · 1 bedroom · ...</td>\n",
       "      <td>408527472</td>\n",
       "      <td>Frédérique</td>\n",
       "      <td>De Baarsjes - Oud-West</td>\n",
       "      <td>52.369761</td>\n",
       "      <td>4.867577</td>\n",
       "      <td>Entire home/apt</td>\n",
       "      <td>270</td>\n",
       "      <td>3</td>\n",
       "      <td>1</td>\n",
       "      <td>2023-05-26</td>\n",
       "      <td>1.00</td>\n",
       "      <td>1</td>\n",
       "      <td>304</td>\n",
       "      <td>1</td>\n",
       "      <td>0363 D0F9 80D0 D687 AC77</td>\n",
       "    </tr>\n",
       "    <tr>\n",
       "      <th>7542</th>\n",
       "      <td>7542</td>\n",
       "      <td>901568493520734904</td>\n",
       "      <td>Rental unit in Amsterdam · ★New · 1 bedroom · ...</td>\n",
       "      <td>517031979</td>\n",
       "      <td>Deepak</td>\n",
       "      <td>Zuid</td>\n",
       "      <td>52.353840</td>\n",
       "      <td>4.882130</td>\n",
       "      <td>Entire home/apt</td>\n",
       "      <td>217</td>\n",
       "      <td>2</td>\n",
       "      <td>1</td>\n",
       "      <td>2023-06-04</td>\n",
       "      <td>1.00</td>\n",
       "      <td>1</td>\n",
       "      <td>18</td>\n",
       "      <td>1</td>\n",
       "      <td>0363 E9BD A812 457C 793D</td>\n",
       "    </tr>\n",
       "    <tr>\n",
       "      <th>7546</th>\n",
       "      <td>7546</td>\n",
       "      <td>887614357269711457</td>\n",
       "      <td>Rental unit in Amsterdam · ★New · 2 bedrooms ·...</td>\n",
       "      <td>34245886</td>\n",
       "      <td>Joey</td>\n",
       "      <td>Centrum-Oost</td>\n",
       "      <td>52.372678</td>\n",
       "      <td>4.906254</td>\n",
       "      <td>Entire home/apt</td>\n",
       "      <td>329</td>\n",
       "      <td>2</td>\n",
       "      <td>2</td>\n",
       "      <td>2023-05-21</td>\n",
       "      <td>2.00</td>\n",
       "      <td>1</td>\n",
       "      <td>5</td>\n",
       "      <td>2</td>\n",
       "      <td>0363 6B68 FF67 36C5 2847</td>\n",
       "    </tr>\n",
       "    <tr>\n",
       "      <th>7576</th>\n",
       "      <td>7576</td>\n",
       "      <td>896005479562267348</td>\n",
       "      <td>Home in Amsterdam · ★New · 3 bedrooms · 4 beds...</td>\n",
       "      <td>5545776</td>\n",
       "      <td>Nienke</td>\n",
       "      <td>De Baarsjes - Oud-West</td>\n",
       "      <td>52.370479</td>\n",
       "      <td>4.859865</td>\n",
       "      <td>Entire home/apt</td>\n",
       "      <td>350</td>\n",
       "      <td>3</td>\n",
       "      <td>1</td>\n",
       "      <td>2023-06-04</td>\n",
       "      <td>1.00</td>\n",
       "      <td>1</td>\n",
       "      <td>187</td>\n",
       "      <td>1</td>\n",
       "      <td>0363 1589 0FF6 A0BF 4953</td>\n",
       "    </tr>\n",
       "  </tbody>\n",
       "</table>\n",
       "<p>5799 rows × 18 columns</p>\n",
       "</div>"
      ],
      "text/plain": [
       "      Unnamed: 0                  id  \\\n",
       "2              2              213371   \n",
       "3              3              155548   \n",
       "5              5              162467   \n",
       "6              6              214531   \n",
       "8              8              219276   \n",
       "...          ...                 ...   \n",
       "7507        7507  886658529197518651   \n",
       "7539        7539  894726527429673315   \n",
       "7542        7542  901568493520734904   \n",
       "7546        7546  887614357269711457   \n",
       "7576        7576  896005479562267348   \n",
       "\n",
       "                                                   name    host_id  \\\n",
       "2     Rental unit in Amsterdam · ★4.86 · 3 bedrooms ...    1100324   \n",
       "3     Rental unit in Amsterdam · ★4.76 · 1 bedroom ·...     748161   \n",
       "5     Rental unit in Amsterdam · ★4.77 · 1 bedroom ·...     776296   \n",
       "6     Rental unit in Amsterdam · ★4.82 · 1 bedroom ·...    1107389   \n",
       "8     Guest suite in Amsterdam · ★4.88 · 1 bedroom ·...    1135329   \n",
       "...                                                 ...        ...   \n",
       "7507  Rental unit in Amsterdam · ★New · 2 bedrooms ·...  138171259   \n",
       "7539  Rental unit in Amsterdam · ★New · 1 bedroom · ...  408527472   \n",
       "7542  Rental unit in Amsterdam · ★New · 1 bedroom · ...  517031979   \n",
       "7546  Rental unit in Amsterdam · ★New · 2 bedrooms ·...   34245886   \n",
       "7576  Home in Amsterdam · ★New · 3 bedrooms · 4 beds...    5545776   \n",
       "\n",
       "                          host_name            neighbourhood   latitude  \\\n",
       "2                           Hendrik  De Pijp - Rivierenbuurt  52.351500   \n",
       "3                             Maria                 Oud-Oost  52.364200   \n",
       "5                            Nicole   De Baarsjes - Oud-West  52.362700   \n",
       "6                             Henry             Centrum-West  52.371690   \n",
       "8     Amsterdam Boutique Apartments             Centrum-West  52.368830   \n",
       "...                             ...                      ...        ...   \n",
       "7507                        Reinier  De Pijp - Rivierenbuurt  52.346446   \n",
       "7539                     Frédérique   De Baarsjes - Oud-West  52.369761   \n",
       "7542                         Deepak                     Zuid  52.353840   \n",
       "7546                           Joey             Centrum-Oost  52.372678   \n",
       "7576                         Nienke   De Baarsjes - Oud-West  52.370479   \n",
       "\n",
       "      longitude        room_type  price  minimum_nights  number_of_reviews  \\\n",
       "2      4.896560  Entire home/apt    270               4                 23   \n",
       "3      4.928290  Entire home/apt    200               3                 21   \n",
       "5      4.856930  Entire home/apt    170               3                 67   \n",
       "6      4.894460     Private room    115               3                175   \n",
       "8      4.887490     Private room    300               2                 17   \n",
       "...         ...              ...    ...             ...                ...   \n",
       "7507   4.898110  Entire home/apt    500               3                  2   \n",
       "7539   4.867577  Entire home/apt    270               3                  1   \n",
       "7542   4.882130  Entire home/apt    217               2                  1   \n",
       "7546   4.906254  Entire home/apt    329               2                  2   \n",
       "7576   4.859865  Entire home/apt    350               3                  1   \n",
       "\n",
       "     last_review  reviews_per_month  calculated_host_listings_count  \\\n",
       "2     2023-01-08               0.16                               1   \n",
       "3     2019-08-20               0.15                               1   \n",
       "5     2023-05-26               0.53                               1   \n",
       "6     2022-06-26               1.24                               1   \n",
       "8     2022-10-23               0.13                               1   \n",
       "...          ...                ...                             ...   \n",
       "7507  2023-05-27               2.00                               1   \n",
       "7539  2023-05-26               1.00                               1   \n",
       "7542  2023-06-04               1.00                               1   \n",
       "7546  2023-05-21               2.00                               1   \n",
       "7576  2023-06-04               1.00                               1   \n",
       "\n",
       "      availability_365  number_of_reviews_ltm                   license  \n",
       "2                    2                      1  0363 F88F 4B47 6E9B 225B  \n",
       "3                    0                      0  0363 A562 4D7E 4A91 60DF  \n",
       "5                  157                      5  0363 C6C3 A2DC 89AC B72B  \n",
       "6                    0                      2  0363 1939 7BED DDCD 0353  \n",
       "8                  126                      4  0363 1179 146A FBDB 79FC  \n",
       "...                ...                    ...                       ...  \n",
       "7507               326                      2  0363 795A E425 9AA3 C4DE  \n",
       "7539               304                      1  0363 D0F9 80D0 D687 AC77  \n",
       "7542                18                      1  0363 E9BD A812 457C 793D  \n",
       "7546                 5                      2  0363 6B68 FF67 36C5 2847  \n",
       "7576               187                      1  0363 1589 0FF6 A0BF 4953  \n",
       "\n",
       "[5799 rows x 18 columns]"
      ]
     },
     "execution_count": 9,
     "metadata": {},
     "output_type": "execute_result"
    }
   ],
   "source": [
    "project"
   ]
  },
  {
   "cell_type": "code",
   "execution_count": 12,
   "id": "148c3a35",
   "metadata": {},
   "outputs": [
    {
     "data": {
      "text/plain": [
       "0"
      ]
     },
     "execution_count": 12,
     "metadata": {},
     "output_type": "execute_result"
    }
   ],
   "source": [
    "project.duplicated().sum()"
   ]
  },
  {
   "cell_type": "markdown",
   "id": "9f61533d",
   "metadata": {},
   "source": [
    "# data analysis"
   ]
  },
  {
   "cell_type": "markdown",
   "id": "742860db",
   "metadata": {},
   "source": [
    "### -What is the most requested room?"
   ]
  },
  {
   "cell_type": "code",
   "execution_count": 13,
   "id": "4bf5f55b",
   "metadata": {},
   "outputs": [
    {
     "data": {
      "text/plain": [
       "'Shared room'"
      ]
     },
     "execution_count": 13,
     "metadata": {},
     "output_type": "execute_result"
    }
   ],
   "source": [
    "project['room_type'].max()"
   ]
  },
  {
   "cell_type": "markdown",
   "id": "06a0cfca",
   "metadata": {},
   "source": [
    "### -Most of the people staying in the hotel"
   ]
  },
  {
   "cell_type": "code",
   "execution_count": 14,
   "id": "f8c1a17f",
   "metadata": {},
   "outputs": [
    {
     "data": {
      "text/plain": [
       "'Özlem'"
      ]
     },
     "execution_count": 14,
     "metadata": {},
     "output_type": "execute_result"
    }
   ],
   "source": [
    "project['host_name'].max()"
   ]
  },
  {
   "cell_type": "markdown",
   "id": "7b7da861",
   "metadata": {},
   "source": [
    "### -What is the average prices for the hotel?"
   ]
  },
  {
   "cell_type": "code",
   "execution_count": 15,
   "id": "15de757d",
   "metadata": {},
   "outputs": [
    {
     "data": {
      "text/plain": [
       "259.65476806345924"
      ]
     },
     "execution_count": 15,
     "metadata": {},
     "output_type": "execute_result"
    }
   ],
   "source": [
    "project['price'].mean()"
   ]
  },
  {
   "cell_type": "markdown",
   "id": "b8197717",
   "metadata": {},
   "source": [
    "### -What is the average reviews per month for the hotel?"
   ]
  },
  {
   "cell_type": "code",
   "execution_count": 17,
   "id": "c7280e7f",
   "metadata": {},
   "outputs": [
    {
     "data": {
      "text/plain": [
       "0.9490170719089499"
      ]
     },
     "execution_count": 17,
     "metadata": {},
     "output_type": "execute_result"
    }
   ],
   "source": [
    "project['reviews_per_month'].mean()"
   ]
  },
  {
   "cell_type": "markdown",
   "id": "8d3450f8",
   "metadata": {},
   "source": [
    "### -What is the average number of people present during a year?"
   ]
  },
  {
   "cell_type": "code",
   "execution_count": 18,
   "id": "aaf88245",
   "metadata": {},
   "outputs": [
    {
     "data": {
      "text/plain": [
       "69.82186583893775"
      ]
     },
     "execution_count": 18,
     "metadata": {},
     "output_type": "execute_result"
    }
   ],
   "source": [
    "project['availability_365'].mean()"
   ]
  },
  {
   "cell_type": "markdown",
   "id": "489114f2",
   "metadata": {},
   "source": [
    "# Data visualization"
   ]
  },
  {
   "cell_type": "code",
   "execution_count": 19,
   "id": "da1da0d3",
   "metadata": {},
   "outputs": [
    {
     "data": {
      "text/plain": [
       "<BarContainer object of 5799 artists>"
      ]
     },
     "execution_count": 19,
     "metadata": {},
     "output_type": "execute_result"
    },
    {
     "data": {
      "image/png": "[encoded data removed]",
      "text/plain": [
       "<Figure size 640x480 with 1 Axes>"
      ]
     },
     "metadata": {},
     "output_type": "display_data"
    }
   ],
   "source": [
    "x=project['room_type']\n",
    "y=project['price']\n",
    "plt.bar(x,y)"
   ]
  },
  {
   "cell_type": "code",
   "execution_count": 20,
   "id": "0e91654b",
   "metadata": {},
   "outputs": [
    {
     "data": {
      "text/plain": [
       "<BarContainer object of 5799 artists>"
      ]
     },
     "execution_count": 20,
     "metadata": {},
     "output_type": "execute_result"
    },
    {
     "data": {
      "image/png": "[encoded data removed]",
      "text/plain": [
       "<Figure size 640x480 with 1 Axes>"
      ]
     },
     "metadata": {},
     "output_type": "display_data"
    }
   ],
   "source": [
    "x=project['room_type']\n",
    "y=project['minimum_nights']\n",
    "plt.bar(x,y)"
   ]
  },
  {
   "cell_type": "code",
   "execution_count": 21,
   "id": "6a1cb9da",
   "metadata": {},
   "outputs": [
    {
     "data": {
      "text/plain": [
       "<BarContainer object of 5799 artists>"
      ]
     },
     "execution_count": 21,
     "metadata": {},
     "output_type": "execute_result"
    },
    {
     "data": {
      "image/png": "[encoded data removed]",
      "text/plain": [
       "<Figure size 640x480 with 1 Axes>"
      ]
     },
     "metadata": {},
     "output_type": "display_data"
    }
   ],
   "source": [
    "x=project['room_type']\n",
    "y=project['availability_365']\n",
    "plt.bar(x,y)"
   ]
  },
  {
   "cell_type": "code",
   "execution_count": null,
   "id": "4b613d7b",
   "metadata": {},
   "outputs": [],
   "source": []
  }
 ],
 "metadata": {
  "kernelspec": {
   "display_name": "Python 3 (ipykernel)",
   "language": "python",
   "name": "python3"
  },
  "language_info": {
   "codemirror_mode": {
    "name": "ipython",
    "version": 3
   },
   "file_extension": ".py",
   "mimetype": "text/x-python",
   "name": "python",
   "nbconvert_exporter": "python",
   "pygments_lexer": "ipython3",
   "version": "3.11.3"
  }
 },
 "nbformat": 4,
 "nbformat_minor": 5
}
